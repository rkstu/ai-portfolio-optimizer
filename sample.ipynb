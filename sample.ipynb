{
 "cells": [
  {
   "cell_type": "code",
   "execution_count": 1,
   "metadata": {},
   "outputs": [
    {
     "name": "stdout",
     "output_type": "stream",
     "text": [
      "Hello\n"
     ]
    }
   ],
   "source": [
    "print(\"Hello\")"
   ]
  },
  {
   "cell_type": "code",
   "execution_count": 2,
   "metadata": {},
   "outputs": [],
   "source": [
    "tickers = \"AAPL,MSFT,GOOGL\"\n",
    "weights = \"0.3,0.4,0.3\""
   ]
  },
  {
   "cell_type": "code",
   "execution_count": 3,
   "metadata": {},
   "outputs": [
    {
     "name": "stdout",
     "output_type": "stream",
     "text": [
      "['AAPL', 'MSFT', 'GOOGL'] \n",
      " [0.3, 0.4, 0.3]\n"
     ]
    }
   ],
   "source": [
    "tickers = tickers.split(',')\n",
    "weights = [float(w) for w in weights.split(',')]\n",
    "print(tickers, '\\n', weights)"
   ]
  },
  {
   "cell_type": "code",
   "execution_count": 4,
   "metadata": {},
   "outputs": [],
   "source": [
    "# !pip install yfinance"
   ]
  },
  {
   "cell_type": "code",
   "execution_count": 5,
   "metadata": {},
   "outputs": [],
   "source": [
    "import yfinance as yf\n",
    "\n",
    "def fetch_stock_data(tickers, start_date=None):\n",
    "    \"\"\"\n",
    "    Fetch historical stock data for the given tickers and start date.\n",
    "    \n",
    "    Args:\n",
    "        tickers (list): List of stock tickers.\n",
    "        start_date (str): Start date for data fetching.\n",
    "        \n",
    "    Returns:\n",
    "        tuple: Historical stock prices and index values.\n",
    "    \"\"\"\n",
    "    if start_date is None:\n",
    "        start_date = \"2018-01-01\"\n",
    "    stock_data = yf.download(tickers, start=start_date, end=None)\n",
    "    stock_prices = stock_data['Adj Close']\n",
    "    index_data = yf.download(\"^GSPC\", start=start_date, end=None)\n",
    "    index_values = index_data['Adj Close']\n",
    "    return stock_prices, index_values\n"
   ]
  },
  {
   "cell_type": "code",
   "execution_count": 7,
   "metadata": {},
   "outputs": [
    {
     "data": {
      "text/plain": [
       "datetime.date(2018, 1, 1)"
      ]
     },
     "execution_count": 7,
     "metadata": {},
     "output_type": "execute_result"
    }
   ],
   "source": [
    "import datetime\n",
    "start_date = datetime.date(2018, 1, 1)\n",
    "start_date"
   ]
  },
  {
   "cell_type": "code",
   "execution_count": 8,
   "metadata": {},
   "outputs": [
    {
     "name": "stderr",
     "output_type": "stream",
     "text": [
      "[*********************100%%**********************]  3 of 3 completed\n",
      "[*********************100%%**********************]  1 of 1 completed\n"
     ]
    }
   ],
   "source": [
    "stock_prices, index_values = fetch_stock_data(tickers, start_date)"
   ]
  },
  {
   "cell_type": "code",
   "execution_count": 9,
   "metadata": {},
   "outputs": [],
   "source": [
    "import matplotlib.pyplot as plt"
   ]
  },
  {
   "cell_type": "code",
   "execution_count": 10,
   "metadata": {},
   "outputs": [
    {
     "data": {
      "text/html": [
       "<div>\n",
       "<style scoped>\n",
       "    .dataframe tbody tr th:only-of-type {\n",
       "        vertical-align: middle;\n",
       "    }\n",
       "\n",
       "    .dataframe tbody tr th {\n",
       "        vertical-align: top;\n",
       "    }\n",
       "\n",
       "    .dataframe thead th {\n",
       "        text-align: right;\n",
       "    }\n",
       "</style>\n",
       "<table border=\"1\" class=\"dataframe\">\n",
       "  <thead>\n",
       "    <tr style=\"text-align: right;\">\n",
       "      <th>Ticker</th>\n",
       "      <th>AAPL</th>\n",
       "      <th>GOOGL</th>\n",
       "      <th>MSFT</th>\n",
       "    </tr>\n",
       "    <tr>\n",
       "      <th>Date</th>\n",
       "      <th></th>\n",
       "      <th></th>\n",
       "      <th></th>\n",
       "    </tr>\n",
       "  </thead>\n",
       "  <tbody>\n",
       "    <tr>\n",
       "      <th>2018-01-02</th>\n",
       "      <td>40.670975</td>\n",
       "      <td>53.660500</td>\n",
       "      <td>80.080925</td>\n",
       "    </tr>\n",
       "    <tr>\n",
       "      <th>2018-01-03</th>\n",
       "      <td>40.663891</td>\n",
       "      <td>54.576000</td>\n",
       "      <td>80.453613</td>\n",
       "    </tr>\n",
       "    <tr>\n",
       "      <th>2018-01-04</th>\n",
       "      <td>40.852772</td>\n",
       "      <td>54.787998</td>\n",
       "      <td>81.161697</td>\n",
       "    </tr>\n",
       "    <tr>\n",
       "      <th>2018-01-05</th>\n",
       "      <td>41.317898</td>\n",
       "      <td>55.514500</td>\n",
       "      <td>82.167961</td>\n",
       "    </tr>\n",
       "    <tr>\n",
       "      <th>2018-01-08</th>\n",
       "      <td>41.164440</td>\n",
       "      <td>55.710499</td>\n",
       "      <td>82.251808</td>\n",
       "    </tr>\n",
       "  </tbody>\n",
       "</table>\n",
       "</div>"
      ],
      "text/plain": [
       "Ticker           AAPL      GOOGL       MSFT\n",
       "Date                                       \n",
       "2018-01-02  40.670975  53.660500  80.080925\n",
       "2018-01-03  40.663891  54.576000  80.453613\n",
       "2018-01-04  40.852772  54.787998  81.161697\n",
       "2018-01-05  41.317898  55.514500  82.167961\n",
       "2018-01-08  41.164440  55.710499  82.251808"
      ]
     },
     "execution_count": 10,
     "metadata": {},
     "output_type": "execute_result"
    }
   ],
   "source": [
    "stock_prices.head()"
   ]
  },
  {
   "cell_type": "code",
   "execution_count": 11,
   "metadata": {},
   "outputs": [
    {
     "data": {
      "text/plain": [
       "<Axes: xlabel='Date'>"
      ]
     },
     "execution_count": 11,
     "metadata": {},
     "output_type": "execute_result"
    },
    {
     "data": {
      "image/png": "[encoded data removed]",
      "text/plain": [
       "<Figure size 640x480 with 1 Axes>"
      ]
     },
     "metadata": {},
     "output_type": "display_data"
    }
   ],
   "source": [
    "stock_prices.plot()"
   ]
  },
  {
   "cell_type": "code",
   "execution_count": 12,
   "metadata": {},
   "outputs": [
    {
     "data": {
      "text/plain": [
       "Ticker\n",
       "AAPL     0\n",
       "GOOGL    0\n",
       "MSFT     0\n",
       "dtype: int64"
      ]
     },
     "execution_count": 12,
     "metadata": {},
     "output_type": "execute_result"
    }
   ],
   "source": [
    "stock_prices.isna().sum()"
   ]
  },
  {
   "cell_type": "code",
   "execution_count": 13,
   "metadata": {},
   "outputs": [],
   "source": [
    "# !pip install cvxpy"
   ]
  },
  {
   "cell_type": "code",
   "execution_count": 14,
   "metadata": {},
   "outputs": [],
   "source": [
    "# portfolio_optimization.py\n",
    "import numpy as np\n",
    "import cvxpy as cp "
   ]
  },
  {
   "cell_type": "code",
   "execution_count": 15,
   "metadata": {},
   "outputs": [
    {
     "data": {
      "text/plain": [
       "((1589,), (1589, 3))"
      ]
     },
     "execution_count": 15,
     "metadata": {},
     "output_type": "execute_result"
    }
   ],
   "source": [
    "index_values.values.shape, stock_prices.values.shape"
   ]
  },
  {
   "cell_type": "code",
   "execution_count": 16,
   "metadata": {},
   "outputs": [
    {
     "ename": "NameError",
     "evalue": "name 'solve_quadratic_optimization_cvxpy' is not defined",
     "output_type": "error",
     "traceback": [
      "\u001b[0;31m---------------------------------------------------------------------------\u001b[0m",
      "\u001b[0;31mNameError\u001b[0m                                 Traceback (most recent call last)",
      "Cell \u001b[0;32mIn[16], line 1\u001b[0m\n\u001b[0;32m----> 1\u001b[0m optimized_weights_cvxpy \u001b[38;5;241m=\u001b[39m \u001b[43msolve_quadratic_optimization_cvxpy\u001b[49m(stock_prices\u001b[38;5;241m.\u001b[39mvalues, index_values\u001b[38;5;241m.\u001b[39mvalues)\n",
      "\u001b[0;31mNameError\u001b[0m: name 'solve_quadratic_optimization_cvxpy' is not defined"
     ]
    }
   ],
   "source": [
    "optimized_weights_cvxpy = solve_quadratic_optimization_cvxpy(stock_prices.values, index_values.values)"
   ]
  },
  {
   "cell_type": "code",
   "execution_count": 30,
   "metadata": {},
   "outputs": [
    {
     "name": "stdout",
     "output_type": "stream",
     "text": [
      "var109\n"
     ]
    }
   ],
   "source": [
    "\"\"\"\n",
    "Solves the quadratic optimization problem using cvxpy to find the optimal weights for index replication.\n",
    "\n",
    "Parameters:\n",
    "- X (ndarray): Design matrix representing historical data of shape (T, n), where T is the number of time points\n",
    "    and n is the number of assets (stocks).\n",
    "- y (ndarray): Target vector representing the returns of the index to be replicated, of length T.\n",
    "\n",
    "Returns:\n",
    "- w_star (ndarray): Optimal solution vector representing the weights of the portfolio,\n",
    "    such that the portfolio mimics the index as closely as possible.\n",
    "\"\"\"\n",
    "X = stock_prices.values\n",
    "y = index_values.values\n",
    "\n",
    "T, n = X.shape\n",
    "\n",
    "# Define the optimization variable representing the portfolio weights\n",
    "w = cp.Variable(n)\n",
    "# print(w)\n",
    "# # Define the objective function to minimize the squared error between replicated and actual index returns\n",
    "objective = cp.Minimize((1/T) * cp.norm(X @ w - y)**2)\n",
    "\n",
    "# # Define the constraints:\n",
    "# # - Non-negativity constraint on the weights\n",
    "# # - Constraint to ensure the weights sum up to 1 (standard simplex constraint)\n",
    "constraints = [w >= 0, cp.sum(w) == 1]\n",
    "\n",
    "# # Formulate the quadratic optimization problem\n",
    "# problem = cp.Problem(objective, constraints)\n",
    "\n",
    "# # Solve the optimization problem\n",
    "# problem.solve()\n",
    "\n",
    "# # Get the optimal solution (portfolio weights)\n",
    "# w_star = w.value"
   ]
  },
  {
   "cell_type": "code",
   "execution_count": 17,
   "metadata": {},
   "outputs": [],
   "source": [
    "def solve_quadratic_optimization_cvxpy(X, y):\n",
    "    \"\"\"\n",
    "    Solves the quadratic optimization problem using cvxpy to find the optimal weights for index replication.\n",
    "\n",
    "    Parameters:\n",
    "    - X (ndarray): Design matrix representing historical data of shape (T, n), where T is the number of time points\n",
    "      and n is the number of assets (stocks).\n",
    "    - y (ndarray): Target vector representing the returns of the index to be replicated, of length T.\n",
    "\n",
    "    Returns:\n",
    "    - w_star (ndarray): Optimal solution vector representing the weights of the portfolio,\n",
    "      such that the portfolio mimics the index as closely as possible.\n",
    "    \"\"\"\n",
    "    T, n = X.shape\n",
    "\n",
    "    # Define the optimization variable representing the portfolio weights\n",
    "    w = cp.Variable(n)\n",
    "\n",
    "    # Define the objective function to minimize the squared error between replicated and actual index returns\n",
    "    objective = cp.Minimize((1/T) * cp.norm(X @ w - y)**2)\n",
    "\n",
    "    # Define the constraints:\n",
    "    # - Non-negativity constraint on the weights\n",
    "    # - Constraint to ensure the weights sum up to 1 (standard simplex constraint)\n",
    "    constraints = [w >= 0, cp.sum(w) == 1]\n",
    "\n",
    "    # Formulate the quadratic optimization problem\n",
    "    problem = cp.Problem(objective, constraints)\n",
    "\n",
    "    # Solve the optimization problem\n",
    "    problem.solve()\n",
    "\n",
    "    # Get the optimal solution (portfolio weights)\n",
    "    w_star = w.value\n",
    "\n",
    "    return w_star\n"
   ]
  },
  {
   "cell_type": "code",
   "execution_count": 19,
   "metadata": {},
   "outputs": [],
   "source": [
    "np.random.seed(42)\n",
    "T, n = 100, 5\n",
    "X = np.random.randn(T, n)  # Example design matrix (historical data)\n",
    "y = np.random.randn(T)    \n",
    "\n"
   ]
  },
  {
   "cell_type": "code",
   "execution_count": 20,
   "metadata": {},
   "outputs": [
    {
     "name": "stdout",
     "output_type": "stream",
     "text": [
      "Optimal Solution Vector (Portfolio Weights):\n",
      "[0.25996121 0.25467058 0.08939503 0.28395395 0.11201924]\n"
     ]
    },
    {
     "name": "stderr",
     "output_type": "stream",
     "text": [
      "/workspaces/ai-portfolio-optimizer/portfolio_optimization_env/lib/python3.8/site-packages/cvxpy/reductions/solvers/solving_chain.py:336: FutureWarning: \n",
      "    Your problem is being solved with the ECOS solver by default. Starting in \n",
      "    CVXPY 1.5.0, Clarabel will be used as the default solver instead. To continue \n",
      "    using ECOS, specify the ECOS solver explicitly using the ``solver=cp.ECOS`` \n",
      "    argument to the ``problem.solve`` method.\n",
      "    \n",
      "  warnings.warn(ECOS_DEPRECATION_MSG, FutureWarning)\n"
     ]
    }
   ],
   "source": [
    "# Generate synthetic data for testing\n",
    "np.random.seed(42)\n",
    "T, n = 100, 5\n",
    "X = np.random.randn(T, n)  # Example design matrix (historical data)\n",
    "y = np.random.randn(T)     # Example target vector (index returns)\n",
    "\n",
    "# Solve the quadratic optimization problem to find the optimal portfolio weights\n",
    "w_star = solve_quadratic_optimization_cvxpy(X, y)\n",
    "\n",
    "# Display the optimal solution (portfolio weights)\n",
    "print(\"Optimal Solution Vector (Portfolio Weights):\")\n",
    "print(w_star)\n"
   ]
  },
  {
   "cell_type": "code",
   "execution_count": 21,
   "metadata": {},
   "outputs": [
    {
     "data": {
      "text/plain": [
       "(1589, 3)"
      ]
     },
     "execution_count": 21,
     "metadata": {},
     "output_type": "execute_result"
    }
   ],
   "source": [
    "stock_prices.values.shape"
   ]
  },
  {
   "cell_type": "code",
   "execution_count": null,
   "metadata": {},
   "outputs": [],
   "source": []
  }
 ],
 "metadata": {
  "kernelspec": {
   "display_name": "Python 3",
   "language": "python",
   "name": "python3"
  },
  "language_info": {
   "codemirror_mode": {
    "name": "ipython",
    "version": 3
   },
   "file_extension": ".py",
   "mimetype": "text/x-python",
   "name": "python",
   "nbconvert_exporter": "python",
   "pygments_lexer": "ipython3",
   "version": "3.8.19"
  }
 },
 "nbformat": 4,
 "nbformat_minor": 2
}
