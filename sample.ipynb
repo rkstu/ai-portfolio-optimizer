{
 "cells": [
  {
   "cell_type": "code",
   "execution_count": 1,
   "metadata": {},
   "outputs": [
    {
     "name": "stdout",
     "output_type": "stream",
     "text": [
      "Hello\n"
     ]
    }
   ],
   "source": [
    "print(\"Hello\")"
   ]
  },
  {
   "cell_type": "code",
   "execution_count": 2,
   "metadata": {},
   "outputs": [],
   "source": [
    "tickers = \"AAPL,MSFT,GOOGL\"\n",
    "weights = \"0.3,0.4,0.3\""
   ]
  },
  {
   "cell_type": "code",
   "execution_count": 3,
   "metadata": {},
   "outputs": [
    {
     "name": "stdout",
     "output_type": "stream",
     "text": [
      "['AAPL', 'MSFT', 'GOOGL'] \n",
      " [0.3, 0.4, 0.3]\n"
     ]
    }
   ],
   "source": [
    "tickers = tickers.split(',')\n",
    "weights = [float(w) for w in weights.split(',')]\n",
    "print(tickers, '\\n', weights)"
   ]
  },
  {
   "cell_type": "code",
   "execution_count": 6,
   "metadata": {},
   "outputs": [
    {
     "name": "stdout",
     "output_type": "stream",
     "text": [
      "Collecting yfinance\n",
      "  Using cached yfinance-0.2.38-py2.py3-none-any.whl.metadata (11 kB)\n",
      "Requirement already satisfied: pandas>=1.3.0 in /home/codespace/.local/lib/python3.10/site-packages (from yfinance) (2.2.1)\n",
      "Requirement already satisfied: numpy>=1.16.5 in /home/codespace/.local/lib/python3.10/site-packages (from yfinance) (1.26.4)\n",
      "Requirement already satisfied: requests>=2.31 in /home/codespace/.local/lib/python3.10/site-packages (from yfinance) (2.31.0)\n",
      "Collecting multitasking>=0.0.7 (from yfinance)\n",
      "  Using cached multitasking-0.0.11-py3-none-any.whl.metadata (5.5 kB)\n",
      "Collecting lxml>=4.9.1 (from yfinance)\n",
      "  Downloading lxml-5.2.1-cp310-cp310-manylinux_2_28_x86_64.whl.metadata (3.4 kB)\n",
      "Collecting appdirs>=1.4.4 (from yfinance)\n",
      "  Using cached appdirs-1.4.4-py2.py3-none-any.whl.metadata (9.0 kB)\n",
      "Requirement already satisfied: pytz>=2022.5 in /home/codespace/.local/lib/python3.10/site-packages (from yfinance) (2024.1)\n",
      "Collecting frozendict>=2.3.4 (from yfinance)\n",
      "  Downloading frozendict-2.4.2-cp310-cp310-manylinux_2_17_x86_64.manylinux2014_x86_64.whl.metadata (23 kB)\n",
      "Collecting peewee>=3.16.2 (from yfinance)\n",
      "  Using cached peewee-3.17.3.tar.gz (3.0 MB)\n",
      "  Installing build dependencies ... \u001b[?25ldone\n",
      "\u001b[?25h  Getting requirements to build wheel ... \u001b[?25ldone\n",
      "\u001b[?25h  Preparing metadata (pyproject.toml) ... \u001b[?25ldone\n",
      "\u001b[?25hRequirement already satisfied: beautifulsoup4>=4.11.1 in /home/codespace/.local/lib/python3.10/site-packages (from yfinance) (4.12.3)\n",
      "Collecting html5lib>=1.1 (from yfinance)\n",
      "  Using cached html5lib-1.1-py2.py3-none-any.whl.metadata (16 kB)\n",
      "Requirement already satisfied: soupsieve>1.2 in /home/codespace/.local/lib/python3.10/site-packages (from beautifulsoup4>=4.11.1->yfinance) (2.5)\n",
      "Requirement already satisfied: six>=1.9 in /home/codespace/.local/lib/python3.10/site-packages (from html5lib>=1.1->yfinance) (1.16.0)\n",
      "Requirement already satisfied: webencodings in /home/codespace/.local/lib/python3.10/site-packages (from html5lib>=1.1->yfinance) (0.5.1)\n",
      "Requirement already satisfied: python-dateutil>=2.8.2 in /home/codespace/.local/lib/python3.10/site-packages (from pandas>=1.3.0->yfinance) (2.9.0.post0)\n",
      "Requirement already satisfied: tzdata>=2022.7 in /home/codespace/.local/lib/python3.10/site-packages (from pandas>=1.3.0->yfinance) (2024.1)\n",
      "Requirement already satisfied: charset-normalizer<4,>=2 in /home/codespace/.local/lib/python3.10/site-packages (from requests>=2.31->yfinance) (3.3.2)\n",
      "Requirement already satisfied: idna<4,>=2.5 in /home/codespace/.local/lib/python3.10/site-packages (from requests>=2.31->yfinance) (3.6)\n",
      "Requirement already satisfied: urllib3<3,>=1.21.1 in /usr/local/python/3.10.13/lib/python3.10/site-packages (from requests>=2.31->yfinance) (2.0.7)\n",
      "Requirement already satisfied: certifi>=2017.4.17 in /home/codespace/.local/lib/python3.10/site-packages (from requests>=2.31->yfinance) (2024.2.2)\n",
      "Using cached yfinance-0.2.38-py2.py3-none-any.whl (72 kB)\n",
      "Using cached appdirs-1.4.4-py2.py3-none-any.whl (9.6 kB)\n",
      "Downloading frozendict-2.4.2-cp310-cp310-manylinux_2_17_x86_64.manylinux2014_x86_64.whl (116 kB)\n",
      "\u001b[2K   \u001b[90m━━━━━━━━━━━━━━━━━━━━━━━━━━━━━━━━━━━━━━━\u001b[0m \u001b[32m116.8/116.8 kB\u001b[0m \u001b[31m813.4 kB/s\u001b[0m eta \u001b[36m0:00:00\u001b[0m \u001b[36m0:00:01\u001b[0m\n",
      "\u001b[?25hUsing cached html5lib-1.1-py2.py3-none-any.whl (112 kB)\n",
      "Downloading lxml-5.2.1-cp310-cp310-manylinux_2_28_x86_64.whl (5.0 MB)\n",
      "\u001b[2K   \u001b[90m━━━━━━━━━━━━━━━━━━━━━━━━━━━━━━━━━━━━━━━━\u001b[0m \u001b[32m5.0/5.0 MB\u001b[0m \u001b[31m12.2 MB/s\u001b[0m eta \u001b[36m0:00:00\u001b[0m00:01\u001b[0m00:01\u001b[0m\n",
      "\u001b[?25hUsing cached multitasking-0.0.11-py3-none-any.whl (8.5 kB)\n",
      "Building wheels for collected packages: peewee\n",
      "  Building wheel for peewee (pyproject.toml) ... \u001b[?25ldone\n",
      "\u001b[?25h  Created wheel for peewee: filename=peewee-3.17.3-cp310-cp310-linux_x86_64.whl size=854126 sha256=e6d7e4d3cd6a6a538a3c139fc4b80e6cda9bf6192db501b409b4bc008d61b9de\n",
      "  Stored in directory: /home/codespace/.cache/pip/wheels/0d/32/b7/cad9f818b37cf97df4c87a8308da86a433af81651d98f8d8aa\n",
      "Successfully built peewee\n",
      "Installing collected packages: peewee, multitasking, appdirs, lxml, html5lib, frozendict, yfinance\n",
      "Successfully installed appdirs-1.4.4 frozendict-2.4.2 html5lib-1.1 lxml-5.2.1 multitasking-0.0.11 peewee-3.17.3 yfinance-0.2.38\n"
     ]
    }
   ],
   "source": [
    "!pip install yfinance"
   ]
  },
  {
   "cell_type": "code",
   "execution_count": 7,
   "metadata": {},
   "outputs": [],
   "source": [
    "import yfinance as yf\n",
    "\n",
    "def fetch_stock_data(tickers, start_date=None):\n",
    "    \"\"\"\n",
    "    Fetch historical stock data for the given tickers and start date.\n",
    "    \n",
    "    Args:\n",
    "        tickers (list): List of stock tickers.\n",
    "        start_date (str): Start date for data fetching.\n",
    "        \n",
    "    Returns:\n",
    "        tuple: Historical stock prices and index values.\n",
    "    \"\"\"\n",
    "    if start_date is None:\n",
    "        start_date = \"2018-01-01\"\n",
    "    stock_data = yf.download(tickers, start=start_date, end=None)\n",
    "    stock_prices = stock_data['Adj Close']\n",
    "    index_data = yf.download(\"^GSPC\", start=start_date, end=None)\n",
    "    index_values = index_data['Adj Close']\n",
    "    return stock_prices, index_values\n"
   ]
  },
  {
   "cell_type": "code",
   "execution_count": 8,
   "metadata": {},
   "outputs": [
    {
     "data": {
      "text/plain": [
       "datetime.date(2018, 1, 1)"
      ]
     },
     "execution_count": 8,
     "metadata": {},
     "output_type": "execute_result"
    }
   ],
   "source": [
    "import datetime\n",
    "start_date = datetime.date(2018, 1, 1)\n",
    "start_date"
   ]
  },
  {
   "cell_type": "code",
   "execution_count": 9,
   "metadata": {},
   "outputs": [
    {
     "name": "stderr",
     "output_type": "stream",
     "text": [
      "[*********************100%%**********************]  3 of 3 completed\n",
      "[*********************100%%**********************]  1 of 1 completed\n"
     ]
    }
   ],
   "source": [
    "stock_prices, index_values = fetch_stock_data(tickers, start_date)"
   ]
  },
  {
   "cell_type": "code",
   "execution_count": 11,
   "metadata": {},
   "outputs": [],
   "source": [
    "import matplotlib.pyplot as plt"
   ]
  },
  {
   "cell_type": "code",
   "execution_count": 13,
   "metadata": {},
   "outputs": [
    {
     "data": {
      "text/html": [
       "<div>\n",
       "<style scoped>\n",
       "    .dataframe tbody tr th:only-of-type {\n",
       "        vertical-align: middle;\n",
       "    }\n",
       "\n",
       "    .dataframe tbody tr th {\n",
       "        vertical-align: top;\n",
       "    }\n",
       "\n",
       "    .dataframe thead th {\n",
       "        text-align: right;\n",
       "    }\n",
       "</style>\n",
       "<table border=\"1\" class=\"dataframe\">\n",
       "  <thead>\n",
       "    <tr style=\"text-align: right;\">\n",
       "      <th>Ticker</th>\n",
       "      <th>AAPL</th>\n",
       "      <th>GOOGL</th>\n",
       "      <th>MSFT</th>\n",
       "    </tr>\n",
       "    <tr>\n",
       "      <th>Date</th>\n",
       "      <th></th>\n",
       "      <th></th>\n",
       "      <th></th>\n",
       "    </tr>\n",
       "  </thead>\n",
       "  <tbody>\n",
       "    <tr>\n",
       "      <th>2018-01-02</th>\n",
       "      <td>40.670979</td>\n",
       "      <td>53.660500</td>\n",
       "      <td>80.080925</td>\n",
       "    </tr>\n",
       "    <tr>\n",
       "      <th>2018-01-03</th>\n",
       "      <td>40.663883</td>\n",
       "      <td>54.576000</td>\n",
       "      <td>80.453583</td>\n",
       "    </tr>\n",
       "    <tr>\n",
       "      <th>2018-01-04</th>\n",
       "      <td>40.852779</td>\n",
       "      <td>54.787998</td>\n",
       "      <td>81.161728</td>\n",
       "    </tr>\n",
       "    <tr>\n",
       "      <th>2018-01-05</th>\n",
       "      <td>41.317909</td>\n",
       "      <td>55.514500</td>\n",
       "      <td>82.167976</td>\n",
       "    </tr>\n",
       "    <tr>\n",
       "      <th>2018-01-08</th>\n",
       "      <td>41.164429</td>\n",
       "      <td>55.710499</td>\n",
       "      <td>82.251816</td>\n",
       "    </tr>\n",
       "  </tbody>\n",
       "</table>\n",
       "</div>"
      ],
      "text/plain": [
       "Ticker           AAPL      GOOGL       MSFT\n",
       "Date                                       \n",
       "2018-01-02  40.670979  53.660500  80.080925\n",
       "2018-01-03  40.663883  54.576000  80.453583\n",
       "2018-01-04  40.852779  54.787998  81.161728\n",
       "2018-01-05  41.317909  55.514500  82.167976\n",
       "2018-01-08  41.164429  55.710499  82.251816"
      ]
     },
     "execution_count": 13,
     "metadata": {},
     "output_type": "execute_result"
    }
   ],
   "source": [
    "stock_prices.head()"
   ]
  },
  {
   "cell_type": "code",
   "execution_count": 12,
   "metadata": {},
   "outputs": [
    {
     "data": {
      "text/plain": [
       "<Axes: xlabel='Date'>"
      ]
     },
     "execution_count": 12,
     "metadata": {},
     "output_type": "execute_result"
    },
    {
     "data": {
      "image/png": "[encoded data removed]",
      "text/plain": [
       "<Figure size 640x480 with 1 Axes>"
      ]
     },
     "metadata": {},
     "output_type": "display_data"
    }
   ],
   "source": [
    "stock_prices.plot()"
   ]
  },
  {
   "cell_type": "code",
   "execution_count": 15,
   "metadata": {},
   "outputs": [
    {
     "data": {
      "text/plain": [
       "Ticker\n",
       "AAPL     0\n",
       "GOOGL    0\n",
       "MSFT     0\n",
       "dtype: int64"
      ]
     },
     "execution_count": 15,
     "metadata": {},
     "output_type": "execute_result"
    }
   ],
   "source": [
    "stock_prices.isna().sum()"
   ]
  },
  {
   "cell_type": "code",
   "execution_count": null,
   "metadata": {},
   "outputs": [],
   "source": [
    "# !pip install cvxpy"
   ]
  },
  {
   "cell_type": "code",
   "execution_count": 18,
   "metadata": {},
   "outputs": [],
   "source": [
    "# portfolio_optimization.py\n",
    "import numpy as np\n",
    "import cvxpy as cp "
   ]
  },
  {
   "cell_type": "code",
   "execution_count": 28,
   "metadata": {},
   "outputs": [
    {
     "data": {
      "text/plain": [
       "((1588,), (1588, 3))"
      ]
     },
     "execution_count": 28,
     "metadata": {},
     "output_type": "execute_result"
    }
   ],
   "source": [
    "index_values.values.shape, stock_prices.values.shape"
   ]
  },
  {
   "cell_type": "code",
   "execution_count": null,
   "metadata": {},
   "outputs": [],
   "source": [
    "optimized_weights_cvxpy = solve_quadratic_optimization_cvxpy(stock_prices.values, index_values.values)"
   ]
  },
  {
   "cell_type": "code",
   "execution_count": 30,
   "metadata": {},
   "outputs": [
    {
     "name": "stdout",
     "output_type": "stream",
     "text": [
      "var109\n"
     ]
    }
   ],
   "source": [
    "\"\"\"\n",
    "Solves the quadratic optimization problem using cvxpy to find the optimal weights for index replication.\n",
    "\n",
    "Parameters:\n",
    "- X (ndarray): Design matrix representing historical data of shape (T, n), where T is the number of time points\n",
    "    and n is the number of assets (stocks).\n",
    "- y (ndarray): Target vector representing the returns of the index to be replicated, of length T.\n",
    "\n",
    "Returns:\n",
    "- w_star (ndarray): Optimal solution vector representing the weights of the portfolio,\n",
    "    such that the portfolio mimics the index as closely as possible.\n",
    "\"\"\"\n",
    "X = stock_prices.values\n",
    "y = index_values.values\n",
    "\n",
    "T, n = X.shape\n",
    "\n",
    "# Define the optimization variable representing the portfolio weights\n",
    "w = cp.Variable(n)\n",
    "# print(w)\n",
    "# # Define the objective function to minimize the squared error between replicated and actual index returns\n",
    "objective = cp.Minimize((1/T) * cp.norm(X @ w - y)**2)\n",
    "\n",
    "# # Define the constraints:\n",
    "# # - Non-negativity constraint on the weights\n",
    "# # - Constraint to ensure the weights sum up to 1 (standard simplex constraint)\n",
    "constraints = [w >= 0, cp.sum(w) == 1]\n",
    "\n",
    "# # Formulate the quadratic optimization problem\n",
    "# problem = cp.Problem(objective, constraints)\n",
    "\n",
    "# # Solve the optimization problem\n",
    "# problem.solve()\n",
    "\n",
    "# # Get the optimal solution (portfolio weights)\n",
    "# w_star = w.value"
   ]
  },
  {
   "cell_type": "code",
   "execution_count": 31,
   "metadata": {},
   "outputs": [],
   "source": [
    "def solve_quadratic_optimization_cvxpy(X, y):\n",
    "    \"\"\"\n",
    "    Solves the quadratic optimization problem using cvxpy to find the optimal weights for index replication.\n",
    "\n",
    "    Parameters:\n",
    "    - X (ndarray): Design matrix representing historical data of shape (T, n), where T is the number of time points\n",
    "      and n is the number of assets (stocks).\n",
    "    - y (ndarray): Target vector representing the returns of the index to be replicated, of length T.\n",
    "\n",
    "    Returns:\n",
    "    - w_star (ndarray): Optimal solution vector representing the weights of the portfolio,\n",
    "      such that the portfolio mimics the index as closely as possible.\n",
    "    \"\"\"\n",
    "    T, n = X.shape\n",
    "\n",
    "    # Define the optimization variable representing the portfolio weights\n",
    "    w = cp.Variable(n)\n",
    "\n",
    "    # Define the objective function to minimize the squared error between replicated and actual index returns\n",
    "    objective = cp.Minimize((1/T) * cp.norm(X @ w - y)**2)\n",
    "\n",
    "    # Define the constraints:\n",
    "    # - Non-negativity constraint on the weights\n",
    "    # - Constraint to ensure the weights sum up to 1 (standard simplex constraint)\n",
    "    constraints = [w >= 0, cp.sum(w) == 1]\n",
    "\n",
    "    # Formulate the quadratic optimization problem\n",
    "    problem = cp.Problem(objective, constraints)\n",
    "\n",
    "    # Solve the optimization problem\n",
    "    problem.solve()\n",
    "\n",
    "    # Get the optimal solution (portfolio weights)\n",
    "    w_star = w.value\n",
    "\n",
    "    return w_star\n"
   ]
  },
  {
   "cell_type": "code",
   "execution_count": 36,
   "metadata": {},
   "outputs": [
    {
     "ename": "AttributeError",
     "evalue": "'numpy.ndarray' object has no attribute 'values'",
     "output_type": "error",
     "traceback": [
      "\u001b[0;31m---------------------------------------------------------------------------\u001b[0m",
      "\u001b[0;31mAttributeError\u001b[0m                            Traceback (most recent call last)",
      "Cell \u001b[0;32mIn[36], line 6\u001b[0m\n\u001b[1;32m      3\u001b[0m X \u001b[38;5;241m=\u001b[39m np\u001b[38;5;241m.\u001b[39mrandom\u001b[38;5;241m.\u001b[39mrandn(T, n)  \u001b[38;5;66;03m# Example design matrix (historical data)\u001b[39;00m\n\u001b[1;32m      4\u001b[0m y \u001b[38;5;241m=\u001b[39m np\u001b[38;5;241m.\u001b[39mrandom\u001b[38;5;241m.\u001b[39mrandn(T)    \n\u001b[0;32m----> 6\u001b[0m \u001b[43mX\u001b[49m\u001b[38;5;241;43m.\u001b[39;49m\u001b[43mvalues\u001b[49m\n",
      "\u001b[0;31mAttributeError\u001b[0m: 'numpy.ndarray' object has no attribute 'values'"
     ]
    }
   ],
   "source": [
    "np.random.seed(42)\n",
    "T, n = 100, 5\n",
    "X = np.random.randn(T, n)  # Example design matrix (historical data)\n",
    "y = np.random.randn(T)    \n",
    "\n"
   ]
  },
  {
   "cell_type": "code",
   "execution_count": 33,
   "metadata": {},
   "outputs": [
    {
     "name": "stdout",
     "output_type": "stream",
     "text": [
      "Optimal Solution Vector (Portfolio Weights):\n",
      "[0.25996121 0.25467058 0.08939503 0.28395395 0.11201924]\n"
     ]
    },
    {
     "name": "stderr",
     "output_type": "stream",
     "text": [
      "/home/codespace/.python/current/lib/python3.10/site-packages/cvxpy/reductions/solvers/solving_chain.py:336: FutureWarning: \n",
      "    Your problem is being solved with the ECOS solver by default. Starting in \n",
      "    CVXPY 1.5.0, Clarabel will be used as the default solver instead. To continue \n",
      "    using ECOS, specify the ECOS solver explicitly using the ``solver=cp.ECOS`` \n",
      "    argument to the ``problem.solve`` method.\n",
      "    \n",
      "  warnings.warn(ECOS_DEPRECATION_MSG, FutureWarning)\n"
     ]
    }
   ],
   "source": [
    "# Generate synthetic data for testing\n",
    "np.random.seed(42)\n",
    "T, n = 100, 5\n",
    "X = np.random.randn(T, n)  # Example design matrix (historical data)\n",
    "y = np.random.randn(T)     # Example target vector (index returns)\n",
    "\n",
    "# Solve the quadratic optimization problem to find the optimal portfolio weights\n",
    "w_star = solve_quadratic_optimization_cvxpy(X, y)\n",
    "\n",
    "# Display the optimal solution (portfolio weights)\n",
    "print(\"Optimal Solution Vector (Portfolio Weights):\")\n",
    "print(w_star)\n"
   ]
  },
  {
   "cell_type": "code",
   "execution_count": 39,
   "metadata": {},
   "outputs": [],
   "source": [
    "import numpy as np\n",
    "import cvxpy as cp\n",
    "\n",
    "def solve_quadratic_optimization(X, y):\n",
    "    \"\"\"\n",
    "    Solves the quadratic optimization problem to find the optimal weights for index replication.\n",
    "\n",
    "    Parameters:\n",
    "    - X (ndarray): Design matrix representing historical data of shape (T, n), where T is the number of time points\n",
    "      and n is the number of assets (stocks).\n",
    "    - y (ndarray): Target vector representing the returns of the index to be replicated, of length T.\n",
    "\n",
    "    Returns:\n",
    "    - w_star (ndarray): Optimal solution vector representing the weights of the portfolio,\n",
    "      such that the portfolio mimics the index as closely as possible.\n",
    "    \"\"\"\n",
    "    T, n = X.shape\n",
    "\n",
    "    # Define the optimization variable representing the portfolio weights\n",
    "    w = cp.Variable(n)\n",
    "\n",
    "    # Define the objective function to minimize the squared error between replicated and actual index returns\n",
    "    objective = cp.Minimize((1/T) * cp.norm(X @ w - y)**2)\n",
    "\n",
    "    # Define the constraints:\n",
    "    # - Non-negativity constraint on the weights\n",
    "    # - Constraint to ensure the weights sum up to 1 (standard simplex constraint)\n",
    "    constraints = [w >= 0, cp.sum(w) == 1]\n",
    "\n",
    "    # Formulate the quadratic optimization problem\n",
    "    problem = cp.Problem(objective, constraints)\n",
    "\n",
    "    # Solve the optimization problem\n",
    "    problem.solve()\n",
    "\n",
    "    # Get the optimal solution (portfolio weights)\n",
    "    w_star = w.value\n",
    "\n",
    "    return w_star"
   ]
  },
  {
   "cell_type": "code",
   "execution_count": 43,
   "metadata": {},
   "outputs": [
    {
     "name": "stdout",
     "output_type": "stream",
     "text": [
      "Optimal Solution Vector (Portfolio Weights):\n",
      "None\n"
     ]
    },
    {
     "name": "stderr",
     "output_type": "stream",
     "text": [
      "/home/codespace/.python/current/lib/python3.10/site-packages/cvxpy/reductions/solvers/solving_chain.py:336: FutureWarning: \n",
      "    Your problem is being solved with the ECOS solver by default. Starting in \n",
      "    CVXPY 1.5.0, Clarabel will be used as the default solver instead. To continue \n",
      "    using ECOS, specify the ECOS solver explicitly using the ``solver=cp.ECOS`` \n",
      "    argument to the ``problem.solve`` method.\n",
      "    \n",
      "  warnings.warn(ECOS_DEPRECATION_MSG, FutureWarning)\n",
      "/home/codespace/.python/current/lib/python3.10/site-packages/cvxpy/problems/problem.py:1403: UserWarning: Solution may be inaccurate. Try another solver, adjusting the solver settings, or solve with verbose=True for more information.\n",
      "  warnings.warn(\n"
     ]
    }
   ],
   "source": [
    "# from cvxpy import minimize\n",
    "\n",
    "w_star = solve_quadratic_optimization(np.array(stock_prices.values), np.array(index_values.values))\n",
    "\n",
    "# Display the optimal solution (portfolio weights)\n",
    "print(\"Optimal Solution Vector (Portfolio Weights):\")\n",
    "print(w_star)"
   ]
  },
  {
   "cell_type": "code",
   "execution_count": 46,
   "metadata": {},
   "outputs": [
    {
     "data": {
      "text/plain": [
       "(1588, 3)"
      ]
     },
     "execution_count": 46,
     "metadata": {},
     "output_type": "execute_result"
    }
   ],
   "source": [
    "stock_prices.values.shape"
   ]
  },
  {
   "cell_type": "code",
   "execution_count": 48,
   "metadata": {},
   "outputs": [
    {
     "data": {
      "text/plain": [
       "((100, 5), (100,))"
      ]
     },
     "execution_count": 48,
     "metadata": {},
     "output_type": "execute_result"
    }
   ],
   "source": [
    "np.random.seed(42)\n",
    "T, n = 100, 5\n",
    "X = np.random.randn(T, n)  # Example design matrix (historical data)\n",
    "y = np.random.randn(T)   \n",
    "\n",
    "X.shape, y.shape"
   ]
  },
  {
   "cell_type": "code",
   "execution_count": null,
   "metadata": {},
   "outputs": [],
   "source": []
  }
 ],
 "metadata": {
  "kernelspec": {
   "display_name": "Python 3",
   "language": "python",
   "name": "python3"
  },
  "language_info": {
   "codemirror_mode": {
    "name": "ipython",
    "version": 3
   },
   "file_extension": ".py",
   "mimetype": "text/x-python",
   "name": "python",
   "nbconvert_exporter": "python",
   "pygments_lexer": "ipython3",
   "version": "3.10.13"
  }
 },
 "nbformat": 4,
 "nbformat_minor": 2
}
